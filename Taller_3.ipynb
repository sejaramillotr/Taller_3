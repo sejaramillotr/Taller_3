{
  "nbformat": 4,
  "nbformat_minor": 0,
  "metadata": {
    "colab": {
      "name": "Taller_3.ipynb",
      "provenance": [],
      "collapsed_sections": [],
      "toc_visible": true,
      "authorship_tag": "ABX9TyPK2SmzJ2FP3pvFAGYrse/p",
      "include_colab_link": true
    },
    "kernelspec": {
      "name": "python3",
      "display_name": "Python 3"
    }
  },
  "cells": [
    {
      "cell_type": "markdown",
      "metadata": {
        "id": "view-in-github",
        "colab_type": "text"
      },
      "source": [
        "<a href=\"https://colab.research.google.com/github/sejaramillotr/Taller_3/blob/master/Taller_3.ipynb\" target=\"_parent\"><img src=\"https://colab.research.google.com/assets/colab-badge.svg\" alt=\"Open In Colab\"/></a>"
      ]
    },
    {
      "cell_type": "markdown",
      "metadata": {
        "id": "sw0L5gcQo1TC",
        "colab_type": "text"
      },
      "source": [
        "#Sebastián Jaramillo Trujillo\n",
        "#Código 1015525\n",
        "#Señales y Sistemas\n",
        "# Taller 3"
      ]
    },
    {
      "cell_type": "markdown",
      "metadata": {
        "id": "eGPvokOeo_YJ",
        "colab_type": "text"
      },
      "source": [
        "#2. Modelado y simulación de sistemas en el tiempo."
      ]
    },
    {
      "cell_type": "markdown",
      "metadata": {
        "id": "niaCQaDf9r39",
        "colab_type": "text"
      },
      "source": [
        "1. Respuesta en el tiempo de sistemas lineales e invariantes en el tiempo mediante ecuaciones diferenciales ordinarias: ver cuadernos Respuesta al impulso, Respuesta al escalón.\n",
        "##Solución\n",
        "\n"
      ]
    },
    {
      "cell_type": "markdown",
      "metadata": {
        "id": "ALT1Bw2BHiB7",
        "colab_type": "text"
      },
      "source": [
        "2. Relaciones entre respuesta al impulso, función de transferencia y autofunciones: ver cuadernos Autofunciones.\n",
        "##Solución\n",
        "\n"
      ]
    },
    {
      "cell_type": "markdown",
      "metadata": {
        "id": "JN37glZtHj0c",
        "colab_type": "text"
      },
      "source": [
        "3. Ejemplos de modelado de sistemas lineales e invariantes en el tiempo mediante ecuaciones diferenciales ordinarias: ver cuadernos Red eléctrica, Péndulo elástico.\n",
        "##Solución"
      ]
    },
    {
      "cell_type": "markdown",
      "metadata": {
        "id": "9ZgqBJlkowPm",
        "colab_type": "text"
      },
      "source": [
        "#3. Transformada de Laplace"
      ]
    },
    {
      "cell_type": "markdown",
      "metadata": {
        "id": "SGUGsVBNHpB0",
        "colab_type": "text"
      },
      "source": [
        "Para resolver los siguientes ejercicios puede apoyarse de los cuadernos del repositorio github del curso, sección 4: Transformada de Laplace.\n",
        "\n",
        "1. Demuestre las siguientes propiedades (sin utilizar tablas de\n",
        "propiedades):\\\n",
        "a) $\\mathcal{L}\\{x(t-t_0)\\}=e^{-st}X(s)$\\\n",
        "b) $\\mathcal{L}\\{x(at)\\}=\\frac{1}{|a|}X(s/a)$\\\n",
        "c) $\\mathcal{L}\\{\\frac{d}{dt}x(t)\\}=sX(s)$\\\n",
        "d) $\\mathcal{L}\\{x(t)*y(t)\\}=X(s)Y(s)$\n",
        "\n",
        "##Solución\n"
      ]
    },
    {
      "cell_type": "markdown",
      "metadata": {
        "id": "WxvKtbWALEiF",
        "colab_type": "text"
      },
      "source": [
        "2. Encuentre la Transformada de Laplace y dibuje el esquema de polos y ceros y la región de convergencia (ROC), de las siguientes señales:\\\n",
        "i) $e^{-2t}u(t)+e^{-3t}u(t)$\\\n",
        "ii) $e^{2t}u(t)+e^{-3t}u(-t)$\\\n",
        "iii) $e^{-a|t|}$\\\n",
        "iv) $e^{-2t}[u(t)-u(t-5)]$\n",
        "\n",
        "##Solución\n"
      ]
    },
    {
      "cell_type": "markdown",
      "metadata": {
        "id": "abTOxf0dMeV3",
        "colab_type": "text"
      },
      "source": [
        "3. Encuentre la función de transferencia en lazo abierto para un circuito $RCL$ serie (entrada tensión de alimentación - salida tensión en el capacitor) y un circuito $RCL$ en paralelo (entrada tensión de alimentación - salida corriente en el inductor).\\\n",
        "Nota: tenga en cuenta las condiciones iniciales del sistema según lo explicado en los cuadernos de Python de la sección 4 del repositorio del curso.\n",
        "\n",
        "##Solución\n"
      ]
    },
    {
      "cell_type": "markdown",
      "metadata": {
        "id": "Xnuv_eqRl7JZ",
        "colab_type": "text"
      },
      "source": [
        "4. Para las funciones de transferencia encontradas en el punto anterior, encuentre la expresión de la salida en el tiempo, en función de R, L, C, y las condiciones iniciales, para las siguientes entradas:\n",
        "- i) Impulso\n",
        "- ii) Escalón unitario\n",
        "- iii) Rampa.\\\n",
        "Compruebe los resultados en simulación sobre Python (utililzando sympy) y graﬁque la señal de salida para cada caso.\n",
        "\n",
        "##Solución\n"
      ]
    },
    {
      "cell_type": "markdown",
      "metadata": {
        "id": "U-SsHp_HmmUV",
        "colab_type": "text"
      },
      "source": [
        "5. Consulte en qué consiste un sistema subamortiguado, sobreamortiguado, y de amortiguamiento crítico. Genere simulaciones para ejempliﬁcar cada uno de los casos con los sistemas $RLC$ serie y paralelo estudiados.\\\n",
        "Nota: asuma condiciones iniciales cero.\n",
        "\n",
        "##Solución\n"
      ]
    },
    {
      "cell_type": "markdown",
      "metadata": {
        "id": "5pC-AhDim_-V",
        "colab_type": "text"
      },
      "source": [
        "6. Para los sistemas del punto 3 encuentre las expresiones para el factor de amortiguamiento $\\zeta$ la frecuencia natural no amortiguada $\\omega_n$, y la frecuencia natural amortiguada $\\omega_d$ en función de $R$, $L$ y $C$.\\\n",
        "Nota: asuma condiciones iniciales cero.\n",
        "\n",
        "##Solución\n"
      ]
    },
    {
      "cell_type": "markdown",
      "metadata": {
        "id": "IX-8XtgQoqXB",
        "colab_type": "text"
      },
      "source": [
        "#4. Transformada Z"
      ]
    },
    {
      "cell_type": "markdown",
      "metadata": {
        "id": "pjNnYWgSoNtE",
        "colab_type": "text"
      },
      "source": [
        "Para resolver los siguientes ejercicios puede apoyarse de los cuadernos del repositorio github del curso, sección 5: Transformada Z.\\\n",
        "1. Consulte en qué consiste la Transformada Z. Explique las semejanzas y diferencias entre la Serie de Fourier, Transformada de Fourier en tiempo continuo y discreto, Transformada de Laplace y la Transformada Z.\n",
        "\n",
        "##Solución\n"
      ]
    },
    {
      "cell_type": "markdown",
      "metadata": {
        "id": "2zFffSWeuSll",
        "colab_type": "text"
      },
      "source": [
        "2. Encuentra la transformada Z para las siguientes señales:\\\n",
        "i) $x[n]=-anu[^-n-1]$\\\n",
        "ii) $x[n]=a^n$ para $0\\geq n\\geq\u0014 N-1$ y $a>0$\\\n",
        "iii) $x[n]=\\{5,3,-2_{\\dagger},04-3\\}$, donde $n=0$ para $x[n]_{\\dagger}$\n",
        "\n",
        "##Solución\n"
      ]
    },
    {
      "cell_type": "markdown",
      "metadata": {
        "id": "r7e9qX55wSng",
        "colab_type": "text"
      },
      "source": [
        "3. Consulte en qué consisten los ﬁltros de respuesta impulso ﬁnita (Finite impulse response - FIR), y los ﬁltros de respuesta impulso inﬁnita (inﬁnite impulse response - IIR). Realice un paralelo entre los FIR, IIR y los sistemas con y sin realimentación.\n",
        "\n",
        "##Solución\n"
      ]
    },
    {
      "cell_type": "markdown",
      "metadata": {
        "id": "UpjDMmAfwsFn",
        "colab_type": "text"
      },
      "source": [
        "4. Ecualizador de audio. Implemente en python un ecualizador de audio para archivos mp3 utilizando ﬁltros IIR. El usuario podrá ingresar la url del archivo y escoger las bandas y ganancias de ecualización, visualizar el espectro del audio original y ﬁltrado, y descargar los audios en mp3.\n",
        "\n",
        "##Solución\n"
      ]
    }
  ]
}